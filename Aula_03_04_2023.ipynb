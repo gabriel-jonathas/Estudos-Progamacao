{
  "nbformat": 4,
  "nbformat_minor": 0,
  "metadata": {
    "colab": {
      "provenance": [],
      "authorship_tag": "ABX9TyNWOgjLj8/KSE8cjMyRIQzS",
      "include_colab_link": true
    },
    "kernelspec": {
      "name": "python3",
      "display_name": "Python 3"
    },
    "language_info": {
      "name": "python"
    }
  },
  "cells": [
    {
      "cell_type": "markdown",
      "metadata": {
        "id": "view-in-github",
        "colab_type": "text"
      },
      "source": [
        "<a href=\"https://colab.research.google.com/github/gabriel-jonathas/Estudos-Progamacao/blob/main/Aula_03_04_2023.ipynb\" target=\"_parent\"><img src=\"https://colab.research.google.com/assets/colab-badge.svg\" alt=\"Open In Colab\"/></a>"
      ]
    },
    {
      "cell_type": "code",
      "source": [
        "#Pede ao usuario para inserir um número inteiro maior que 1\n",
        "#O programa deve imprimir todos os números até o número digitado\n",
        "\n",
        "n1 = int(input('Digite um número maior que 1: '))\n",
        "cont = 0\n",
        "\n",
        "while(cont<n1):\n",
        "  if(n1>1):\n",
        "    print(cont+1)\n",
        "  else:\n",
        "    print('Digite um número maior que um!')\n",
        "  cont+=1"
      ],
      "metadata": {
        "colab": {
          "base_uri": "https://localhost:8080/"
        },
        "id": "3OEvpcItGGYJ",
        "outputId": "54df044b-0fcb-4bf6-c998-12d2341c6e97"
      },
      "execution_count": null,
      "outputs": [
        {
          "output_type": "stream",
          "name": "stdout",
          "text": [
            "Digite um número maior que 1: 10\n",
            "1\n",
            "2\n",
            "3\n",
            "4\n",
            "5\n",
            "6\n",
            "7\n",
            "8\n",
            "9\n",
            "10\n"
          ]
        }
      ]
    },
    {
      "cell_type": "code",
      "source": [
        "#Insira um número e mostre a soma de todos partindo do 0 até o número solicitado\n",
        "\n",
        "num = int(input('Digite um número positivo: '))\n",
        "cont = 0\n",
        "soma = 0\n",
        "while(cont<=num):\n",
        "   soma += cont\n",
        "   cont+=1\n",
        "print(soma)   \n"
      ],
      "metadata": {
        "colab": {
          "base_uri": "https://localhost:8080/"
        },
        "id": "wCNiDPzMKtfm",
        "outputId": "1e2b4fd3-7e21-47de-f0ae-b97d873c3aba"
      },
      "execution_count": null,
      "outputs": [
        {
          "output_type": "stream",
          "name": "stdout",
          "text": [
            "Digite um número positivo: 5\n",
            "15\n"
          ]
        }
      ]
    },
    {
      "cell_type": "code",
      "source": [
        "#pede a senha do usuário. E de 5 chances para o usuário inserir a senha correta\n",
        "\n",
        "senha = 'pamonha'\n",
        "usersenha = input('Digite sua senha: ')\n",
        "cont = 0\n",
        "while(cont<5):\n",
        "  cont+=1\n",
        "  if(usersenha == senha):\n",
        "    break\n",
        "  else:\n",
        "    print('Tente novamente')\n",
        "    usersenha = input('Digite sua senha: ')\n",
        "\n",
        "if(cont == 5):\n",
        "  print('Tentativas esgotadas, sua conta foi bloqueda!')\n",
        "else:\n",
        "  print(\"Bem-vindo ao sistema!\")"
      ],
      "metadata": {
        "colab": {
          "base_uri": "https://localhost:8080/"
        },
        "id": "HfkptO2tN9sj",
        "outputId": "fa9e34b3-f2f6-4322-e557-cb78758853be"
      },
      "execution_count": null,
      "outputs": [
        {
          "output_type": "stream",
          "name": "stdout",
          "text": [
            "Digite sua senha: pamonha\n",
            "Bem-vindo ao sistema!\n"
          ]
        }
      ]
    },
    {
      "cell_type": "code",
      "source": [
        "#Testar a entrada do usuário\n",
        "#isdigit() verificar se o que foi digitado é um número ou não\n",
        "num = input('Digite um número: ')\n",
        "num.isdigit()"
      ],
      "metadata": {
        "colab": {
          "base_uri": "https://localhost:8080/"
        },
        "id": "5e693yx4X6ro",
        "outputId": "2b1e4025-393b-4ac1-f46c-8e60c5716ba7"
      },
      "execution_count": null,
      "outputs": [
        {
          "name": "stdout",
          "output_type": "stream",
          "text": [
            "Digite um número: 10\n"
          ]
        },
        {
          "output_type": "execute_result",
          "data": {
            "text/plain": [
              "True"
            ]
          },
          "metadata": {},
          "execution_count": 27
        }
      ]
    },
    {
      "cell_type": "code",
      "source": [
        "#Solicite que o usuáro digite um nome. Caso ele digite um número, avise \"Entrada incorreta!\"\n",
        "\n",
        "nome = input('Digite o nome: ')\n",
        "if(nome.isdigit()):\n",
        "  print('Entrada incorreta')\n",
        "else:\n",
        "  print(f'O nome {nome} foi inserido com sucesso!')"
      ],
      "metadata": {
        "colab": {
          "base_uri": "https://localhost:8080/"
        },
        "id": "pIujfYiEZW8g",
        "outputId": "5202a65d-d6ca-4c3f-a8ef-adeb9a254499"
      },
      "execution_count": null,
      "outputs": [
        {
          "output_type": "stream",
          "name": "stdout",
          "text": [
            "Digite o nome: gabriel\n",
            "O nome gabriel foi inserido com sucesso!\n"
          ]
        }
      ]
    },
    {
      "cell_type": "code",
      "source": [
        "#Solicite que o usuário digite nomes de anmais que serão inseridos em uma lista\n",
        "#O programa encerra quando um número for digitado.\n",
        "#Ao final, exibe-se na tela a lista de animais\n",
        "\n",
        "animais = []\n",
        "animal = input('Digite o nome de um animal: ')\n",
        "while(animal.isdigit() == False):\n",
        "  animais.append(animal)\n",
        "  animal = input('Digite o nome de um animal: ')\n",
        "animais\n"
      ],
      "metadata": {
        "colab": {
          "base_uri": "https://localhost:8080/"
        },
        "id": "8nbKXcftbMtb",
        "outputId": "c59ffaaa-9c23-464c-e163-a28b4166abc9"
      },
      "execution_count": null,
      "outputs": [
        {
          "name": "stdout",
          "output_type": "stream",
          "text": [
            "Digite o nome de um animal: Tigre\n",
            "Digite o nome de um animal: Macaco\n",
            "Digite o nome de um animal: Vibora\n",
            "Digite o nome de um animal: Garça\n",
            "Digite o nome de um animal: Louva-a-deus\n",
            "Digite o nome de um animal: Panda\n",
            "Digite o nome de um animal: 6\n"
          ]
        },
        {
          "output_type": "execute_result",
          "data": {
            "text/plain": [
              "['Tigre', 'Macaco', 'Vibora', 'Garça', 'Louva-a-deus', 'Panda']"
            ]
          },
          "metadata": {},
          "execution_count": 31
        }
      ]
    }
  ]
}