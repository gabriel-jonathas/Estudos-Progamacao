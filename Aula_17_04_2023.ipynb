{
  "nbformat": 4,
  "nbformat_minor": 0,
  "metadata": {
    "colab": {
      "provenance": [],
      "authorship_tag": "ABX9TyNxQs3Qo0R/pjmyns+xemIz",
      "include_colab_link": true
    },
    "kernelspec": {
      "name": "python3",
      "display_name": "Python 3"
    },
    "language_info": {
      "name": "python"
    }
  },
  "cells": [
    {
      "cell_type": "markdown",
      "metadata": {
        "id": "view-in-github",
        "colab_type": "text"
      },
      "source": [
        "<a href=\"https://colab.research.google.com/github/gabriel-jonathas/Estudos-Progamacao/blob/main/Aula_17_04_2023.ipynb\" target=\"_parent\"><img src=\"https://colab.research.google.com/assets/colab-badge.svg\" alt=\"Open In Colab\"/></a>"
      ]
    },
    {
      "cell_type": "code",
      "execution_count": null,
      "metadata": {
        "id": "YSLoEfbUCon6"
      },
      "outputs": [],
      "source": [
        "# Função calcula média\n",
        "\n",
        "def calculaMedia(x, y, z):\n",
        "  return (x+y+z)/3\n"
      ]
    },
    {
      "cell_type": "code",
      "source": [
        "x = float(input('Nota1: '))\n",
        "y = float(input('Nota2: '))\n",
        "z = float(input('Nota3: '))\n",
        "\n",
        "calculaMedia(x, y, z)"
      ],
      "metadata": {
        "colab": {
          "base_uri": "https://localhost:8080/"
        },
        "id": "Epw7yIF2J2Pm",
        "outputId": "a65d1d21-3e44-4c3d-bda5-147face21e71"
      },
      "execution_count": null,
      "outputs": [
        {
          "name": "stdout",
          "output_type": "stream",
          "text": [
            "Nota1: 10\n",
            "Nota2: 9\n",
            "Nota3: 8\n"
          ]
        },
        {
          "output_type": "execute_result",
          "data": {
            "text/plain": [
              "9.0"
            ]
          },
          "metadata": {},
          "execution_count": 4
        }
      ]
    },
    {
      "cell_type": "code",
      "source": [
        "#Argumentos arbitrários *args\n",
        "#Quando não se tem certeza quantos argumentos são passados pela função\n",
        "\n",
        "def mediaTotal(*notas):\n",
        "  soma=0\n",
        "  for nota in notas:\n",
        "    soma += nota\n",
        "  media = soma/len(notas)\n",
        "  return media"
      ],
      "metadata": {
        "id": "gN7HqKOEMAMI"
      },
      "execution_count": null,
      "outputs": []
    },
    {
      "cell_type": "code",
      "source": [
        "mediaTotal(10,9,7,8,9,6,3,2,10,8,5,6,10,4,2,0,9,8,7,10)"
      ],
      "metadata": {
        "colab": {
          "base_uri": "https://localhost:8080/"
        },
        "id": "vZnIsAHoNxYZ",
        "outputId": "e932a077-6a05-4838-a8d4-145719fb7cd4"
      },
      "execution_count": null,
      "outputs": [
        {
          "output_type": "execute_result",
          "data": {
            "text/plain": [
              "6.65"
            ]
          },
          "metadata": {},
          "execution_count": 13
        }
      ]
    },
    {
      "cell_type": "code",
      "source": [
        "#Faça uma função que recebe vários números e retorna o maior.\n",
        "# Quando não se sabe o total de inserções usamos(*)\n",
        "def maior_numero(*numeros):\n",
        "    maior = 0\n",
        "    for numero in numeros:\n",
        "        if (numero >= maior):\n",
        "            maior = numero\n",
        "    return maior"
      ],
      "metadata": {
        "id": "EkHb7wQvPWVs"
      },
      "execution_count": null,
      "outputs": []
    },
    {
      "cell_type": "code",
      "source": [
        "maior_numero(5,6,9,4,5,9,7,8,6,1,3,2,4,5,10,1)"
      ],
      "metadata": {
        "colab": {
          "base_uri": "https://localhost:8080/"
        },
        "id": "HgUC_DGHT28b",
        "outputId": "a2c151de-67d8-4aaa-8897-c4029420dad9"
      },
      "execution_count": null,
      "outputs": [
        {
          "output_type": "execute_result",
          "data": {
            "text/plain": [
              "10"
            ]
          },
          "metadata": {},
          "execution_count": 37
        }
      ]
    },
    {
      "cell_type": "code",
      "source": [
        "#Valor de parâmetro pafrão\n",
        "def nacionalidade(country = 'Cuba'):\n",
        "  print('Eu nasci em: '+ country)"
      ],
      "metadata": {
        "id": "lAYWYBBccuB1"
      },
      "execution_count": null,
      "outputs": []
    },
    {
      "cell_type": "code",
      "source": [
        "nacionalidade('Brasil')\n",
        "nacionalidade('França')\n",
        "nacionalidade('Vietnã')\n",
        "nacionalidade()"
      ],
      "metadata": {
        "colab": {
          "base_uri": "https://localhost:8080/"
        },
        "id": "dwFZkpGpe8L4",
        "outputId": "dfe86074-ba75-431d-88ff-6631b47f6b42"
      },
      "execution_count": null,
      "outputs": [
        {
          "output_type": "stream",
          "name": "stdout",
          "text": [
            "Eu nasci em: Brasil\n",
            "Eu nasci em: França\n",
            "Eu nasci em: Vietnã\n",
            "Eu nasci em: Cuba\n"
          ]
        }
      ]
    },
    {
      "cell_type": "code",
      "source": [
        "#1 Escreva uma função que recebe dois parametros numéricos e retorna a soma desses númenos.\n",
        "\n",
        "def somaNumeros(a, b):\n",
        "  soma = a + b\n",
        "\n",
        "  return soma"
      ],
      "metadata": {
        "id": "H1qOAULOfqtK"
      },
      "execution_count": null,
      "outputs": []
    },
    {
      "cell_type": "code",
      "source": [
        "somaNumeros(1, 6)"
      ],
      "metadata": {
        "colab": {
          "base_uri": "https://localhost:8080/"
        },
        "id": "Sdc8IQwmgvXo",
        "outputId": "630291fb-9627-4d23-efb9-df4f5da24932"
      },
      "execution_count": null,
      "outputs": [
        {
          "output_type": "execute_result",
          "data": {
            "text/plain": [
              "7"
            ]
          },
          "metadata": {},
          "execution_count": 44
        }
      ]
    },
    {
      "cell_type": "code",
      "source": [
        "#2 Escreva uma função que recebe um número e retorna o valor absoluto.\n",
        "\n",
        "def numeroAbsoluto (num):\n",
        "    if (num < 0):\n",
        "       num = num*(-1)\n",
        "       return num\n",
        "    else:\n",
        "       return num"
      ],
      "metadata": {
        "id": "j1PxfljuhACj"
      },
      "execution_count": null,
      "outputs": []
    },
    {
      "cell_type": "code",
      "source": [
        "numeroAbsoluto(-32)"
      ],
      "metadata": {
        "colab": {
          "base_uri": "https://localhost:8080/"
        },
        "id": "zDBRdIeIiOsK",
        "outputId": "0f32c14b-2efe-49dc-e7c5-94feab6ed59c"
      },
      "execution_count": null,
      "outputs": [
        {
          "output_type": "execute_result",
          "data": {
            "text/plain": [
              "32"
            ]
          },
          "metadata": {},
          "execution_count": 57
        }
      ]
    },
    {
      "cell_type": "code",
      "source": [
        "#3 Faça uma função que recebe vários números e retorna o maior.\n",
        "\n",
        "def maior_numero(*numeros):\n",
        "    maior = 0\n",
        "    for numero in numeros:\n",
        "        if (numero >= maior):\n",
        "            maior = numero\n",
        "    return maior"
      ],
      "metadata": {
        "id": "cXIM4b0BiOmq"
      },
      "execution_count": null,
      "outputs": []
    },
    {
      "cell_type": "code",
      "source": [
        "maior_numero(5,6,9,4,5,9,7,8,6,1,3,2,4,5,10,1)"
      ],
      "metadata": {
        "colab": {
          "base_uri": "https://localhost:8080/"
        },
        "id": "HqdTubzojgrI",
        "outputId": "015975c4-a49c-4087-9efc-0b045b0c9327"
      },
      "execution_count": null,
      "outputs": [
        {
          "output_type": "execute_result",
          "data": {
            "text/plain": [
              "10"
            ]
          },
          "metadata": {},
          "execution_count": 61
        }
      ]
    },
    {
      "cell_type": "code",
      "source": [
        "#4 Escreva uma dfunção que receba uma lista de palavras e retorna uma lista com as palavras que possuem mais de três letras.\n",
        "\n",
        "def maiorque3(lista):\n",
        "  lista3 = []\n",
        "  for item in lista:\n",
        "    if(len(item) > 3):\n",
        "      lista3.append(item)\n",
        "  return lista3"
      ],
      "metadata": {
        "id": "Z4hFEhY8jiU_"
      },
      "execution_count": null,
      "outputs": []
    },
    {
      "cell_type": "code",
      "source": [
        "frutas = ['mangaba','uva','pinha']\n",
        "maiorque3(frutas)"
      ],
      "metadata": {
        "colab": {
          "base_uri": "https://localhost:8080/"
        },
        "id": "J3gVUtnxkkgb",
        "outputId": "fbdc83e5-3f3c-441e-c776-db7bf1577f8c"
      },
      "execution_count": null,
      "outputs": [
        {
          "output_type": "execute_result",
          "data": {
            "text/plain": [
              "['mangaba', 'pinha']"
            ]
          },
          "metadata": {},
          "execution_count": 64
        }
      ]
    }
  ]
}