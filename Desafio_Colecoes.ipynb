{
  "nbformat": 4,
  "nbformat_minor": 0,
  "metadata": {
    "colab": {
      "provenance": [],
      "authorship_tag": "ABX9TyMInb6W2OCyDpTQULs3QmNP",
      "include_colab_link": true
    },
    "kernelspec": {
      "name": "python3",
      "display_name": "Python 3"
    },
    "language_info": {
      "name": "python"
    }
  },
  "cells": [
    {
      "cell_type": "markdown",
      "metadata": {
        "id": "view-in-github",
        "colab_type": "text"
      },
      "source": [
        "<a href=\"https://colab.research.google.com/github/gabriel-jonathas/Estudos-Progamacao/blob/main/Desafio_Colecoes.ipynb\" target=\"_parent\"><img src=\"https://colab.research.google.com/assets/colab-badge.svg\" alt=\"Open In Colab\"/></a>"
      ]
    },
    {
      "cell_type": "markdown",
      "source": [
        "Neste exercício, você deve desenvolver um gerenciador de tarefas usando o conhecimento de Coleções em Python.\n",
        "Para facilitar, vocês devem seguir o roteiro:\n",
        "1. Crie uma lista chamada “tarefas”.\n",
        "2. Crie uma função que pede o nome de uma tarefa e insere na lista tarefas, um dicionário contendo id, tarefa e\n",
        "status (pendente ou concluída).\n",
        "3. O id deve ser gerado de forma automática.\n",
        "4. Quando criada, o status da tarefa deve ser “pendente”.\n",
        "{“id”: 0, “tarefa”: “nome da tarefa”, “status”: “pendente”}\n",
        "5. Cadastre a seguinte lista de tarefas no seu código:\n",
        "* a. Estudar python\n",
        "* b. Programar site\n",
        "* c. Comprar mouse\n",
        "* d. Correr 4km\n",
        "* e. Pegar documentos\n",
        "* f. Responder email\n",
        "6. Crie uma função para listar todas as tarefas da lista com a seguinte formatação:\n",
        "a. “Tarefa: Regar Plantas, Status: pendente”\n",
        "7. Crie uma função para alterar o status de “pendente” para “concluída”\n",
        "8. Crie uma função para deletar uma tarefa.\n",
        "9. Crie uma função para listar apenas as tarefas pendentes."
      ],
      "metadata": {
        "id": "FIs-e_BCiBoZ"
      }
    },
    {
      "cell_type": "code",
      "source": [
        "tarefas = []\n",
        "\n",
        "def adicionar_tarefa():\n",
        "    nome_tarefa = input(\"Digite o nome da tarefa: \")\n",
        "    id_tarefa = len(tarefas)\n",
        "    tarefa = {\"id\": id_tarefa, \"tarefa\": nome_tarefa, \"status\": \"pendente\"}\n",
        "    tarefas.append(tarefa)\n",
        "    print(\"Tarefa adicionada com sucesso!\")\n",
        "\n",
        "def listar_tarefas():\n",
        "    if len(tarefas) == 0:\n",
        "        print(\"Não há tarefas cadastradas.\")\n",
        "    else:\n",
        "        for tarefa in tarefas:\n",
        "            print(f\"ID: {tarefa['id']}, Tarefa: {tarefa['tarefa']}, Status: {tarefa['status']}\")\n",
        "\n",
        "def alterar_status_tarefa():\n",
        "    if len(tarefas) == 0:\n",
        "        print(\"Não há tarefas cadastradas.\")\n",
        "    else:\n",
        "        id_tarefa = int(input(\"Digite o ID da tarefa que deseja marcar como concluída: \"))\n",
        "        for tarefa in tarefas:\n",
        "            if tarefa[\"id\"] == id_tarefa:\n",
        "                tarefa[\"status\"] = \"concluída\"\n",
        "                print(\"Status da tarefa alterado para concluída.\")\n",
        "                return\n",
        "        print(\"ID de tarefa inválido.\")\n",
        "\n",
        "def deletar_tarefa():\n",
        "    if len(tarefas) == 0:\n",
        "        print(\"Não há tarefas cadastradas.\")\n",
        "    else:\n",
        "        id_tarefa = int(input(\"Digite o ID da tarefa que deseja deletar: \"))\n",
        "        for tarefa in tarefas:\n",
        "            if tarefa[\"id\"] == id_tarefa:\n",
        "                tarefas.remove(tarefa)\n",
        "                print(\"Tarefa removida com sucesso.\")\n",
        "                return\n",
        "        print(\"ID de tarefa inválido.\")\n",
        "\n",
        "def listar_tarefas_pendentes():\n",
        "    if len(tarefas) == 0:\n",
        "        print(\"Não há tarefas cadastradas.\")\n",
        "    else:\n",
        "        for tarefa in tarefas:\n",
        "            if tarefa[\"status\"] == \"pendente\":\n",
        "                print(f\"ID: {tarefa['id']}, Tarefa: {tarefa['tarefa']}, Status: {tarefa['status']}\")\n",
        "\n",
        "tarefas_iniciais = [\"Estudar python\", \"Programar site\", \"Comprar mouse\", \"Correr 4km\", \"Pegar documentos\", \"Responder email\"]\n",
        "for tarefa_inicial in tarefas_iniciais:\n",
        "    tarefa = {\"id\": len(tarefas), \"tarefa\": tarefa_inicial, \"status\": \"pendente\"}\n",
        "    tarefas.append(tarefa)\n",
        "\n",
        "adicionar_tarefa()\n",
        "listar_tarefas()\n",
        "alterar_status_tarefa()\n",
        "listar_tarefas()\n",
        "\n",
        "#Criado parar o looping.\n",
        "while True:\n",
        "    excluir_tarefa = input(\"Você deseja excluir alguma tarefa? (s/n): \")\n",
        "    if excluir_tarefa.lower() == \"s\":\n",
        "        deletar_tarefa()\n",
        "        listar_tarefas()\n",
        "        excluir_mais_tarefas = input(\"Você deseja excluir mais alguma tarefa? (s/n): \")\n",
        "        if excluir_mais_tarefas.lower() != \"s\":\n",
        "            break\n",
        "    else:\n",
        "        break\n",
        "\n",
        "listar_tarefas_pendentes()\n"
      ],
      "metadata": {
        "colab": {
          "base_uri": "https://localhost:8080/"
        },
        "id": "4Zzqfo7YgkRc",
        "outputId": "3b21c6e8-c3ea-48a4-df6d-3e5f7e7c8dac"
      },
      "execution_count": null,
      "outputs": [
        {
          "output_type": "stream",
          "name": "stdout",
          "text": [
            "Digite o nome da tarefa: Terminar a lista \n",
            "Tarefa adicionada com sucesso!\n",
            "ID: 0, Tarefa: Estudar python, Status: pendente\n",
            "ID: 1, Tarefa: Programar site, Status: pendente\n",
            "ID: 2, Tarefa: Comprar mouse, Status: pendente\n",
            "ID: 3, Tarefa: Correr 4km, Status: pendente\n",
            "ID: 4, Tarefa: Pegar documentos, Status: pendente\n",
            "ID: 5, Tarefa: Responder email, Status: pendente\n",
            "ID: 6, Tarefa: Terminar a lista , Status: pendente\n",
            "Digite o ID da tarefa que deseja marcar como concluída: 6\n",
            "Status da tarefa alterado para concluída.\n",
            "ID: 0, Tarefa: Estudar python, Status: pendente\n",
            "ID: 1, Tarefa: Programar site, Status: pendente\n",
            "ID: 2, Tarefa: Comprar mouse, Status: pendente\n",
            "ID: 3, Tarefa: Correr 4km, Status: pendente\n",
            "ID: 4, Tarefa: Pegar documentos, Status: pendente\n",
            "ID: 5, Tarefa: Responder email, Status: pendente\n",
            "ID: 6, Tarefa: Terminar a lista , Status: concluída\n",
            "Você deseja excluir alguma tarefa? (s/n): n\n",
            "ID: 0, Tarefa: Estudar python, Status: pendente\n",
            "ID: 1, Tarefa: Programar site, Status: pendente\n",
            "ID: 2, Tarefa: Comprar mouse, Status: pendente\n",
            "ID: 3, Tarefa: Correr 4km, Status: pendente\n",
            "ID: 4, Tarefa: Pegar documentos, Status: pendente\n",
            "ID: 5, Tarefa: Responder email, Status: pendente\n"
          ]
        }
      ]
    }
  ]
}