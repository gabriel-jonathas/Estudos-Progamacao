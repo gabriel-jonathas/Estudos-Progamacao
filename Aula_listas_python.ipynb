{
  "nbformat": 4,
  "nbformat_minor": 0,
  "metadata": {
    "colab": {
      "provenance": [],
      "authorship_tag": "ABX9TyNpwKZYsq/vI3i/ZWn5zwfK",
      "include_colab_link": true
    },
    "kernelspec": {
      "name": "python3",
      "display_name": "Python 3"
    },
    "language_info": {
      "name": "python"
    }
  },
  "cells": [
    {
      "cell_type": "markdown",
      "metadata": {
        "id": "view-in-github",
        "colab_type": "text"
      },
      "source": [
        "<a href=\"https://colab.research.google.com/github/gabriel-jonathas/Estudos-Progamacao/blob/main/Aula_listas_python.ipynb\" target=\"_parent\"><img src=\"https://colab.research.google.com/assets/colab-badge.svg\" alt=\"Open In Colab\"/></a>"
      ]
    },
    {
      "cell_type": "code",
      "execution_count": null,
      "metadata": {
        "id": "9v31-6CJCTRk",
        "colab": {
          "base_uri": "https://localhost:8080/"
        },
        "outputId": "f1a5a9ff-8db9-4870-a9f3-05f990efb701"
      },
      "outputs": [
        {
          "output_type": "stream",
          "name": "stdout",
          "text": [
            "Informe a idade do atleta :23\n",
            "Sênior\n"
          ]
        }
      ],
      "source": [
        "idade = int(input('Informe a idade do atleta :'))\n",
        "if(idade < 14):\n",
        "   print('Infantil')\n",
        "elif(idade < 18):\n",
        "   print('Juvenil')\n",
        "else:\n",
        "  print('Sênior')"
      ]
    },
    {
      "cell_type": "code",
      "source": [
        "peso = float(input('Informe o peso :'))\n",
        "if(peso < 18.5):\n",
        "  print('Abaixo do peso normal')\n",
        "elif(peso <= 24.9):\n",
        "  print('Peso normal')\n",
        "elif(peso <= 29.9):\n",
        "  print('Excesso de peso')\n",
        "elif(peso <= 34.9):\n",
        "  print('Obesidade classe I')\n",
        "elif(peso <= 39.9):\n",
        "  print('Obesidade classe II')\n",
        "else:\n",
        "  print('Obesidade classe III')"
      ],
      "metadata": {
        "colab": {
          "base_uri": "https://localhost:8080/"
        },
        "id": "gMLky7We80oU",
        "outputId": "cea43293-5c59-4352-d80f-4fe01779a0e0"
      },
      "execution_count": null,
      "outputs": [
        {
          "output_type": "stream",
          "name": "stdout",
          "text": [
            "Informe o peso :23\n",
            "Peso normal\n"
          ]
        }
      ]
    },
    {
      "cell_type": "code",
      "source": [
        "num = [3, 6, 9, 2, 5, 8, 1, 4, 7]\n",
        "num"
      ],
      "metadata": {
        "colab": {
          "base_uri": "https://localhost:8080/"
        },
        "id": "oq02Dy0i_6yt",
        "outputId": "4046f84c-4747-4559-8d7f-3735716d8798"
      },
      "execution_count": null,
      "outputs": [
        {
          "output_type": "execute_result",
          "data": {
            "text/plain": [
              "[3, 6, 9, 2, 5, 8, 1, 4, 7]"
            ]
          },
          "metadata": {},
          "execution_count": 7
        }
      ]
    },
    {
      "cell_type": "code",
      "source": [
        "#Tamanho da lista\n",
        "len(num)"
      ],
      "metadata": {
        "colab": {
          "base_uri": "https://localhost:8080/"
        },
        "id": "O-SQPCWqBWuZ",
        "outputId": "584a0dd1-5d69-48f0-de78-5ef635abc6fa"
      },
      "execution_count": null,
      "outputs": [
        {
          "output_type": "execute_result",
          "data": {
            "text/plain": [
              "9"
            ]
          },
          "metadata": {},
          "execution_count": 18
        }
      ]
    },
    {
      "cell_type": "code",
      "source": [
        "alunos = ['Marcelo', 'Gabriel', 'Renata', 'Guilherme', 'Thais', 'Mirian', 'Thiago']\n",
        "alunos"
      ],
      "metadata": {
        "colab": {
          "base_uri": "https://localhost:8080/"
        },
        "id": "Biaqhv-MDK4G",
        "outputId": "9f463cf5-0058-43a5-8f3d-267e7fc7cfab"
      },
      "execution_count": null,
      "outputs": [
        {
          "output_type": "execute_result",
          "data": {
            "text/plain": [
              "['Marcelo', 'Gabriel', 'Renata', 'Guilherme', 'Thais', 'Mirian', 'Thiago']"
            ]
          },
          "metadata": {},
          "execution_count": 36
        }
      ]
    },
    {
      "cell_type": "code",
      "source": [
        "len(alunos)"
      ],
      "metadata": {
        "colab": {
          "base_uri": "https://localhost:8080/"
        },
        "id": "OwGhkEuXDrXh",
        "outputId": "007364e5-9567-4b8e-ed5b-22f635c56af7"
      },
      "execution_count": null,
      "outputs": [
        {
          "output_type": "execute_result",
          "data": {
            "text/plain": [
              "7"
            ]
          },
          "metadata": {},
          "execution_count": 23
        }
      ]
    },
    {
      "cell_type": "code",
      "source": [
        "alunos[1]"
      ],
      "metadata": {
        "colab": {
          "base_uri": "https://localhost:8080/",
          "height": 35
        },
        "id": "h-NKCBWoEx9r",
        "outputId": "8495f7ba-d2bc-4075-bcea-0742a26a44e0"
      },
      "execution_count": null,
      "outputs": [
        {
          "output_type": "execute_result",
          "data": {
            "text/plain": [
              "'Gabriel'"
            ],
            "application/vnd.google.colaboratory.intrinsic+json": {
              "type": "string"
            }
          },
          "metadata": {},
          "execution_count": 29
        }
      ]
    },
    {
      "cell_type": "code",
      "source": [
        "alunos[1] = 'Jonathas'\n",
        "alunos"
      ],
      "metadata": {
        "colab": {
          "base_uri": "https://localhost:8080/"
        },
        "id": "_Nmiaa6WFM-7",
        "outputId": "6a4cd559-cdd7-4e5f-f7de-ff9350d3a4ac"
      },
      "execution_count": null,
      "outputs": [
        {
          "output_type": "execute_result",
          "data": {
            "text/plain": [
              "['Marcelo', 'Jonathas', 'Renata', 'Guilherme', 'Thais', 'Mirian', 'Thiago']"
            ]
          },
          "metadata": {},
          "execution_count": 37
        }
      ]
    },
    {
      "cell_type": "code",
      "source": [
        "alunos.append('Junior')\n",
        "alunos"
      ],
      "metadata": {
        "colab": {
          "base_uri": "https://localhost:8080/"
        },
        "id": "AparCt4JFXwJ",
        "outputId": "e410a715-3117-49c5-9ad1-009be0602df3"
      },
      "execution_count": null,
      "outputs": [
        {
          "output_type": "execute_result",
          "data": {
            "text/plain": [
              "['Marcelo',\n",
              " 'Jonathas',\n",
              " 'Renata',\n",
              " 'Guilherme',\n",
              " 'Thais',\n",
              " 'Mirian',\n",
              " 'Thiago',\n",
              " 'Junior']"
            ]
          },
          "metadata": {},
          "execution_count": 38
        }
      ]
    },
    {
      "cell_type": "code",
      "source": [
        "alunos.append(input('Digite o nome do aluno :'))"
      ],
      "metadata": {
        "colab": {
          "base_uri": "https://localhost:8080/"
        },
        "id": "J3nfAGk0GB2Z",
        "outputId": "0d8d6341-4d47-455c-d51b-c55405afc8b4"
      },
      "execution_count": null,
      "outputs": [
        {
          "name": "stdout",
          "output_type": "stream",
          "text": [
            "Digite o nome do aluno :Pamela\n"
          ]
        }
      ]
    },
    {
      "cell_type": "code",
      "source": [
        "alunos"
      ],
      "metadata": {
        "colab": {
          "base_uri": "https://localhost:8080/"
        },
        "id": "QQVm-PgBGSMX",
        "outputId": "bfcbe7b7-459f-44d7-b552-8e73e4c58605"
      },
      "execution_count": null,
      "outputs": [
        {
          "output_type": "execute_result",
          "data": {
            "text/plain": [
              "['Marcelo',\n",
              " 'Jonathas',\n",
              " 'Renata',\n",
              " 'Guilherme',\n",
              " 'Thais',\n",
              " 'Mirian',\n",
              " 'Thiago',\n",
              " 'Junior',\n",
              " 'Paulo',\n",
              " 'Pamela']"
            ]
          },
          "metadata": {},
          "execution_count": 42
        }
      ]
    },
    {
      "cell_type": "code",
      "source": [
        "#Descobrir se há um valor determinado na lista\n",
        "nome = input('Digite o nome: ')\n",
        "if nome in alunos:\n",
        "  print('Tem', nome,'sim')\n",
        "else:\n",
        "  print('Tem', nome,'não')"
      ],
      "metadata": {
        "colab": {
          "base_uri": "https://localhost:8080/"
        },
        "id": "cXx2luOoMy0t",
        "outputId": "0f7ca65d-40cf-47ce-bc7f-106c2629b77a"
      },
      "execution_count": null,
      "outputs": [
        {
          "output_type": "stream",
          "name": "stdout",
          "text": [
            "Digite o nome: gabriel\n",
            "Tem gabriel não\n"
          ]
        }
      ]
    },
    {
      "cell_type": "code",
      "source": [
        "#Criar uma lisa com números de 1 a 15\n",
        "numeros = []\n",
        "for num in range(15):\n",
        "  numeros.append(num)\n",
        "numeros"
      ],
      "metadata": {
        "colab": {
          "base_uri": "https://localhost:8080/"
        },
        "id": "9107QPX3TELR",
        "outputId": "152ce7b3-e90a-4aeb-d356-6c44d8c8ea35"
      },
      "execution_count": null,
      "outputs": [
        {
          "output_type": "execute_result",
          "data": {
            "text/plain": [
              "[0, 1, 2, 3, 4, 5, 6, 7, 8, 9, 10, 11, 12, 13, 14]"
            ]
          },
          "metadata": {},
          "execution_count": 48
        }
      ]
    },
    {
      "cell_type": "code",
      "source": [
        "dobro = []\n",
        "for num in numeros:\n",
        "  dobro.append(num*2)\n",
        "dobro"
      ],
      "metadata": {
        "colab": {
          "base_uri": "https://localhost:8080/"
        },
        "id": "c3eBZharU_e1",
        "outputId": "513f2796-5e11-4f43-c24d-6e402a1efe63"
      },
      "execution_count": null,
      "outputs": [
        {
          "output_type": "execute_result",
          "data": {
            "text/plain": [
              "[0, 2, 4, 6, 8, 10, 12, 14, 16, 18, 20, 22, 24, 26, 28]"
            ]
          },
          "metadata": {},
          "execution_count": 49
        }
      ]
    },
    {
      "cell_type": "code",
      "source": [
        "#Pegar a lista núeros e só imprimir os pares\n",
        "for num in numeros:\n",
        "  if numeros[num]%2 == 0:\n",
        "    print(numeros[num])\n"
      ],
      "metadata": {
        "colab": {
          "base_uri": "https://localhost:8080/"
        },
        "id": "mar6ZJe0WmK7",
        "outputId": "529b6623-e46f-460d-f455-2e0fc2c1714b"
      },
      "execution_count": null,
      "outputs": [
        {
          "output_type": "stream",
          "name": "stdout",
          "text": [
            "0\n",
            "2\n",
            "4\n",
            "6\n",
            "8\n",
            "10\n",
            "12\n",
            "14\n"
          ]
        }
      ]
    }
  ]
}