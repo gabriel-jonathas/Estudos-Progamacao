{
  "nbformat": 4,
  "nbformat_minor": 0,
  "metadata": {
    "colab": {
      "provenance": [],
      "authorship_tag": "ABX9TyP9ROKINIqcS/DochK4Tho9",
      "include_colab_link": true
    },
    "kernelspec": {
      "name": "python3",
      "display_name": "Python 3"
    },
    "language_info": {
      "name": "python"
    }
  },
  "cells": [
    {
      "cell_type": "markdown",
      "metadata": {
        "id": "view-in-github",
        "colab_type": "text"
      },
      "source": [
        "<a href=\"https://colab.research.google.com/github/gabriel-jonathas/Estudos-Progamacao/blob/main/Aula_24_04_2023.ipynb\" target=\"_parent\"><img src=\"https://colab.research.google.com/assets/colab-badge.svg\" alt=\"Open In Colab\"/></a>"
      ]
    },
    {
      "cell_type": "code",
      "execution_count": null,
      "metadata": {
        "colab": {
          "base_uri": "https://localhost:8080/",
          "height": 35
        },
        "id": "BCRGBJ-zEubI",
        "outputId": "3a5c3fbf-c99c-41f7-f7bf-a6e659caefbc"
      },
      "outputs": [
        {
          "output_type": "execute_result",
          "data": {
            "text/plain": [
              "'A'"
            ],
            "application/vnd.google.colaboratory.intrinsic+json": {
              "type": "string"
            }
          },
          "metadata": {},
          "execution_count": 4
        }
      ],
      "source": [
        "palavra = \"Abacate\"\n",
        "palavra[0]"
      ]
    },
    {
      "cell_type": "code",
      "source": [
        "def palavras_com_a(palavras):\n",
        "    palavras_lista = []\n",
        "    for palavra in palavras:\n",
        "        if palavra.startswith('a'):\n",
        "            palavras_lista.append(palavra)\n",
        "    return palavras_lista"
      ],
      "metadata": {
        "id": "9rX4XeNhO_Oj"
      },
      "execution_count": null,
      "outputs": []
    },
    {
      "cell_type": "code",
      "source": [
        "palavras = ['manga','abacaxi','maçã','abacate','pera','limão']\n",
        "palavras_lista = palavras_com_a(palavras)\n",
        "print(palavras_lista)\n",
        "len(palavras_lista)"
      ],
      "metadata": {
        "id": "9GKgCGofSyTv",
        "colab": {
          "base_uri": "https://localhost:8080/"
        },
        "outputId": "90d825e2-3507-4094-f2ca-808dbbe2ee65"
      },
      "execution_count": null,
      "outputs": [
        {
          "output_type": "stream",
          "name": "stdout",
          "text": [
            "['abacaxi', 'abacate']\n"
          ]
        },
        {
          "output_type": "execute_result",
          "data": {
            "text/plain": [
              "2"
            ]
          },
          "metadata": {},
          "execution_count": 40
        }
      ]
    },
    {
      "cell_type": "code",
      "source": [
        "def produto(numeros):\n",
        "  resultado = 1\n",
        "  for numero in numeros:\n",
        "    resultado *= numero\n",
        "  return resultado"
      ],
      "metadata": {
        "id": "zKntChPLVjK0"
      },
      "execution_count": null,
      "outputs": []
    },
    {
      "cell_type": "code",
      "source": [
        "numerozinhos = [ 1, 2, 3, 4, 5]\n",
        "produto(numerozinhos)"
      ],
      "metadata": {
        "colab": {
          "base_uri": "https://localhost:8080/"
        },
        "id": "_HJOZ746aEwt",
        "outputId": "26a87721-159d-4a76-9979-5d3061327460"
      },
      "execution_count": null,
      "outputs": [
        {
          "output_type": "execute_result",
          "data": {
            "text/plain": [
              "120"
            ]
          },
          "metadata": {},
          "execution_count": 50
        }
      ]
    },
    {
      "cell_type": "code",
      "source": [
        "def soma_pares(numeros2):\n",
        "  soma = 0\n",
        "  for num in numeros2:\n",
        "    if (num%2 == 0):\n",
        "        soma += num\n",
        "  return soma"
      ],
      "metadata": {
        "id": "LPH5sUIqc3ge"
      },
      "execution_count": null,
      "outputs": []
    },
    {
      "cell_type": "code",
      "source": [
        "numerozitos = [ 1, 2, 3, 4, 5]\n",
        "soma_pares(numerozitos)"
      ],
      "metadata": {
        "colab": {
          "base_uri": "https://localhost:8080/"
        },
        "id": "rq6sCe_pdyCJ",
        "outputId": "41a0c6b9-ae9a-4456-903f-34638fcb5e0e"
      },
      "execution_count": null,
      "outputs": [
        {
          "output_type": "execute_result",
          "data": {
            "text/plain": [
              "6"
            ]
          },
          "metadata": {},
          "execution_count": 55
        }
      ]
    },
    {
      "cell_type": "code",
      "source": [
        "def nomes_maior(nomes):\n",
        "  maior = ''\n",
        "  for n in nomes:\n",
        "    if(len(n) >= len(maior)):\n",
        "      maior = n\n",
        "  print(maior)"
      ],
      "metadata": {
        "id": "_TYYWTxVjtqb"
      },
      "execution_count": null,
      "outputs": []
    },
    {
      "cell_type": "code",
      "source": [
        "nomes2 = ['gabriel', 'thiago', 'felipe', 'jefferson']\n",
        "nomes_maior(nomes2)"
      ],
      "metadata": {
        "colab": {
          "base_uri": "https://localhost:8080/"
        },
        "id": "t-u0bn2ZlLF8",
        "outputId": "b4e0b2a7-8e7f-456f-a0eb-9943d9a18b9b"
      },
      "execution_count": null,
      "outputs": [
        {
          "output_type": "stream",
          "name": "stdout",
          "text": [
            "jefferson\n"
          ]
        }
      ]
    },
    {
      "cell_type": "markdown",
      "source": [
        "# Recursividade\n",
        "\n",
        "Recursividade é um termo usado de maneira mais geral para descrever o processo de repetição de um objeto deum jeito simiar ao que já fora mostrado. Um exemplo disso são as imagens repetidas que aparecem quando dois espelhos são apontados um para o outro."
      ],
      "metadata": {
        "id": "214b6f4zpcWs"
      }
    }
  ]
}