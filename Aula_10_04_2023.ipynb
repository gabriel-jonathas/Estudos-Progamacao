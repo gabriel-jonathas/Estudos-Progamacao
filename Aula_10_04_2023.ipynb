{
  "nbformat": 4,
  "nbformat_minor": 0,
  "metadata": {
    "colab": {
      "provenance": [],
      "authorship_tag": "ABX9TyOv0Yvq00x+n9BDVt2+KvB3",
      "include_colab_link": true
    },
    "kernelspec": {
      "name": "python3",
      "display_name": "Python 3"
    },
    "language_info": {
      "name": "python"
    }
  },
  "cells": [
    {
      "cell_type": "markdown",
      "metadata": {
        "id": "view-in-github",
        "colab_type": "text"
      },
      "source": [
        "<a href=\"https://colab.research.google.com/github/gabriel-jonathas/Estudos-Progamacao/blob/main/Aula_10_04_2023.ipynb\" target=\"_parent\"><img src=\"https://colab.research.google.com/assets/colab-badge.svg\" alt=\"Open In Colab\"/></a>"
      ]
    },
    {
      "cell_type": "code",
      "execution_count": null,
      "metadata": {
        "id": "9OFpo9l3AWnS"
      },
      "outputs": [],
      "source": [
        "#Funções"
      ]
    },
    {
      "cell_type": "code",
      "source": [
        "#Declaração da função\n",
        "def my_fitst_function():\n",
        "  print('minha primeira função')"
      ],
      "metadata": {
        "id": "WECJPtzPHYXW"
      },
      "execution_count": null,
      "outputs": []
    },
    {
      "cell_type": "code",
      "source": [
        "#chamando uma função\n",
        "my_fitst_function()"
      ],
      "metadata": {
        "colab": {
          "base_uri": "https://localhost:8080/"
        },
        "id": "dDBW2IpZHqWS",
        "outputId": "abdd1957-8675-46e4-b858-65ece6cca85e"
      },
      "execution_count": null,
      "outputs": [
        {
          "output_type": "stream",
          "name": "stdout",
          "text": [
            "minha primeira função\n"
          ]
        }
      ]
    },
    {
      "cell_type": "markdown",
      "source": [
        "Agumantos e parametros"
      ],
      "metadata": {
        "id": "bFZDQxlwIhRl"
      }
    },
    {
      "cell_type": "code",
      "source": [
        "def pronomeTratam(pronome):\n",
        "  print(pronome + \" Gabriel\")"
      ],
      "metadata": {
        "id": "9_mdGsmXIfVc"
      },
      "execution_count": null,
      "outputs": []
    },
    {
      "cell_type": "code",
      "source": [
        "pronomeTratam('Doutor')\n",
        "pronomeTratam('Ilmo')\n",
        "pronomeTratam('Seu')"
      ],
      "metadata": {
        "colab": {
          "base_uri": "https://localhost:8080/"
        },
        "id": "UjvL4lMpIx7z",
        "outputId": "33c2b2e1-2284-452c-dc07-9edafab3419f"
      },
      "execution_count": null,
      "outputs": [
        {
          "output_type": "stream",
          "name": "stdout",
          "text": [
            "Doutor Gabriel\n",
            "Ilmo Gabriel\n",
            "Seu Gabriel\n"
          ]
        }
      ]
    },
    {
      "cell_type": "code",
      "source": [
        "def tratamNome(pronome, nome):\n",
        "  print(pronome, nome)"
      ],
      "metadata": {
        "id": "0Oh6qFVKJzSl"
      },
      "execution_count": null,
      "outputs": []
    },
    {
      "cell_type": "code",
      "source": [
        "tratamNome('Senhor', 'Gabriel')"
      ],
      "metadata": {
        "colab": {
          "base_uri": "https://localhost:8080/"
        },
        "id": "MExbRLdeKOJq",
        "outputId": "d0e36d44-429d-401f-ca3c-5ba9279eb439"
      },
      "execution_count": null,
      "outputs": [
        {
          "output_type": "stream",
          "name": "stdout",
          "text": [
            "Senhor Gabriel\n"
          ]
        }
      ]
    },
    {
      "cell_type": "code",
      "source": [
        "def nomeIdade(nome, idade):\n",
        "  idade = ((ano-2023)*(-1))\n",
        "  print(nome,'tem', idade,'anos de idade')\n"
      ],
      "metadata": {
        "id": "XarU2m4gL02J"
      },
      "execution_count": null,
      "outputs": []
    },
    {
      "cell_type": "code",
      "source": [
        "nomeIdade('Gabriel', 2000)"
      ],
      "metadata": {
        "colab": {
          "base_uri": "https://localhost:8080/"
        },
        "id": "9W_I9FEjM74I",
        "outputId": "6984b985-0205-4293-829b-ad3faeb27d43"
      },
      "execution_count": null,
      "outputs": [
        {
          "output_type": "stream",
          "name": "stdout",
          "text": [
            "Gabriel tem 23 anos de idade\n"
          ]
        }
      ]
    },
    {
      "cell_type": "code",
      "source": [
        "def calculoImc(altura, peso):\n",
        "  print(peso/altura**2)"
      ],
      "metadata": {
        "id": "A4Y256ihPm0o"
      },
      "execution_count": null,
      "outputs": []
    },
    {
      "cell_type": "code",
      "source": [
        "calculoImc(1.75, 60)"
      ],
      "metadata": {
        "colab": {
          "base_uri": "https://localhost:8080/"
        },
        "id": "8-0lh5NXPzII",
        "outputId": "23b383af-ff69-44a5-da92-00c4d5349522"
      },
      "execution_count": null,
      "outputs": [
        {
          "output_type": "stream",
          "name": "stdout",
          "text": [
            "19.591836734693878\n"
          ]
        }
      ]
    },
    {
      "cell_type": "code",
      "source": [
        "def calculoImc(altura, peso):\n",
        "  return peso/altura**2"
      ],
      "metadata": {
        "id": "lJqO55L-O293"
      },
      "execution_count": null,
      "outputs": []
    },
    {
      "cell_type": "code",
      "source": [
        "calculoImc(1.75, 60) > 18.5"
      ],
      "metadata": {
        "colab": {
          "base_uri": "https://localhost:8080/"
        },
        "id": "S0B0WAhkSi_G",
        "outputId": "762cab2f-8528-4958-82e4-c365a8813965"
      },
      "execution_count": null,
      "outputs": [
        {
          "output_type": "execute_result",
          "data": {
            "text/plain": [
              "True"
            ]
          },
          "metadata": {},
          "execution_count": 50
        }
      ]
    },
    {
      "cell_type": "code",
      "source": [
        "#O cálculo de Juros Simples é dado pela fórmula:\n",
        "# J = C * i * t\n",
        "# Sendo:\n",
        "# J = juros simpes\n",
        "# C = capital inicial\n",
        "# i = taxa de juros\n",
        "# t = tempo de aplicação\n",
        "#Crie uma função que recebe um valor de empréstimo e o\n",
        "#tempo e retorne calcule quanto será pago de jusros ao final do período\n",
        "#use uma taxa de juros de 2.5%"
      ],
      "metadata": {
        "id": "4KfdZqmwYxry"
      },
      "execution_count": null,
      "outputs": []
    },
    {
      "cell_type": "code",
      "source": [
        "def empresJuros(valor, tempo):\n",
        "  return valor * 0.025 * tempo\n"
      ],
      "metadata": {
        "id": "ybaExiX_aEQ-"
      },
      "execution_count": null,
      "outputs": []
    },
    {
      "cell_type": "code",
      "source": [
        "empresJuros(1000, 5)"
      ],
      "metadata": {
        "colab": {
          "base_uri": "https://localhost:8080/"
        },
        "id": "9v2A6BFEbDki",
        "outputId": "e9320494-e395-48c8-82df-3977a557785e"
      },
      "execution_count": null,
      "outputs": [
        {
          "output_type": "execute_result",
          "data": {
            "text/plain": [
              "125.0"
            ]
          },
          "metadata": {},
          "execution_count": 79
        }
      ]
    },
    {
      "cell_type": "code",
      "source": [
        "def valorTotal(valor, tempo):\n",
        "  return valor + empresJuros(valor, tempo)"
      ],
      "metadata": {
        "id": "TJtVc0RadnTr"
      },
      "execution_count": null,
      "outputs": []
    },
    {
      "cell_type": "code",
      "source": [
        "valorTotal(1000, 5)"
      ],
      "metadata": {
        "colab": {
          "base_uri": "https://localhost:8080/"
        },
        "id": "Yba5RrpeeYk8",
        "outputId": "c361b4b0-278a-4259-f935-688415314d12"
      },
      "execution_count": null,
      "outputs": [
        {
          "output_type": "execute_result",
          "data": {
            "text/plain": [
              "1125.0"
            ]
          },
          "metadata": {},
          "execution_count": 81
        }
      ]
    },
    {
      "cell_type": "code",
      "source": [
        "valor = float(input('Digite o valor do empéstimo: '))\n",
        "tempo = int(input('Em quanto tempo(em meses): '))\n",
        "\n",
        "valorTotal(valor, tempo)\n"
      ],
      "metadata": {
        "colab": {
          "base_uri": "https://localhost:8080/"
        },
        "id": "G2gqi2WDe0fW",
        "outputId": "a554b4a9-0411-4368-8042-3f7bf302a048"
      },
      "execution_count": null,
      "outputs": [
        {
          "name": "stdout",
          "output_type": "stream",
          "text": [
            "Digite o valor do empéstimo: 10000\n",
            "Em quanto tempo(em meses): 24\n"
          ]
        },
        {
          "output_type": "execute_result",
          "data": {
            "text/plain": [
              "16000.0"
            ]
          },
          "metadata": {},
          "execution_count": 83
        }
      ]
    }
  ]
}