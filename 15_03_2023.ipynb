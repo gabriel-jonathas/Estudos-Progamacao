{
  "nbformat": 4,
  "nbformat_minor": 0,
  "metadata": {
    "colab": {
      "provenance": [],
      "authorship_tag": "ABX9TyO1E10bJdVL6yaSZFmZrtRK",
      "include_colab_link": true
    },
    "kernelspec": {
      "name": "python3",
      "display_name": "Python 3"
    },
    "language_info": {
      "name": "python"
    }
  },
  "cells": [
    {
      "cell_type": "markdown",
      "metadata": {
        "id": "view-in-github",
        "colab_type": "text"
      },
      "source": [
        "<a href=\"https://colab.research.google.com/github/gabriel-jonathas/Estudos-Progamacao/blob/main/15_03_2023.ipynb\" target=\"_parent\"><img src=\"https://colab.research.google.com/assets/colab-badge.svg\" alt=\"Open In Colab\"/></a>"
      ]
    },
    {
      "cell_type": "markdown",
      "source": [
        "# Tuplas\n",
        "\n",
        "Uma tupla é uma coleção ordenada e imutável de elementos em Python"
      ],
      "metadata": {
        "id": "o1_vYf2FT6vD"
      }
    },
    {
      "cell_type": "code",
      "source": [
        "tp_frutas = ('maçã', 'banana', 'laranja', 'goiaba')\n",
        "tp_frutas"
      ],
      "metadata": {
        "colab": {
          "base_uri": "https://localhost:8080/"
        },
        "id": "KgUqUTKeT9YZ",
        "outputId": "4f2a0eb5-9dc3-414a-d45c-dd7fda5c06f7"
      },
      "execution_count": null,
      "outputs": [
        {
          "output_type": "execute_result",
          "data": {
            "text/plain": [
              "('maçã', 'banana', 'laranja', 'goiaba')"
            ]
          },
          "metadata": {},
          "execution_count": 7
        }
      ]
    },
    {
      "cell_type": "code",
      "execution_count": null,
      "metadata": {
        "id": "NEIvEq4zP5su",
        "colab": {
          "base_uri": "https://localhost:8080/"
        },
        "outputId": "0bacfa6c-bcb5-4d7e-de1c-fc3aa762b3db"
      },
      "outputs": [
        {
          "output_type": "execute_result",
          "data": {
            "text/plain": [
              "['maçã', 'banana', 'laranja', 'goiaba']"
            ]
          },
          "metadata": {},
          "execution_count": 8
        }
      ],
      "source": [
        "lst_frutas = list(tp_frutas)\n",
        "lst_frutas"
      ]
    },
    {
      "cell_type": "code",
      "source": [
        "tp_meses = ('Jan', 'Fev', 'Mar', 'Abr', 'Mai', 'Jun', 'Jul', 'Ago', 'Set', 'Out', 'Nov', 'Dez')\n",
        "tp_meses[3:6]"
      ],
      "metadata": {
        "colab": {
          "base_uri": "https://localhost:8080/"
        },
        "id": "MCMVB8W5ZZwV",
        "outputId": "ab55bb74-98d3-43c3-a6cb-e643aef84d5e"
      },
      "execution_count": null,
      "outputs": [
        {
          "output_type": "execute_result",
          "data": {
            "text/plain": [
              "('Abr', 'Mai', 'Jun')"
            ]
          },
          "metadata": {},
          "execution_count": 10
        }
      ]
    },
    {
      "cell_type": "code",
      "source": [
        "uf_cod = [('PE', 81), ('RJ', 21), ('SP', 11), ('PB', 83)]\n",
        "sorted(uf_cod, key = lambda x : x[1])"
      ],
      "metadata": {
        "colab": {
          "base_uri": "https://localhost:8080/"
        },
        "id": "0tpNz6dkahxS",
        "outputId": "becedfd8-5281-43e0-f718-6084bc237cfe"
      },
      "execution_count": null,
      "outputs": [
        {
          "output_type": "execute_result",
          "data": {
            "text/plain": [
              "[('SP', 11), ('RJ', 21), ('PE', 81), ('PB', 83)]"
            ]
          },
          "metadata": {},
          "execution_count": 11
        }
      ]
    },
    {
      "cell_type": "code",
      "source": [
        "nome_nasc = [('Zé', 2003), ('Maria', 1998), ('Alice', 2000)]\n",
        "sorted(nome_nasc, key = lambda x : x[1], reverse = True )"
      ],
      "metadata": {
        "colab": {
          "base_uri": "https://localhost:8080/"
        },
        "id": "n6ydJysKc_EY",
        "outputId": "60f35d32-b619-48af-c9f6-e5e2a7f00038"
      },
      "execution_count": null,
      "outputs": [
        {
          "output_type": "execute_result",
          "data": {
            "text/plain": [
              "[('Zé', 2003), ('Alice', 2000), ('Maria', 1998)]"
            ]
          },
          "metadata": {},
          "execution_count": 20
        }
      ]
    },
    {
      "cell_type": "code",
      "source": [
        "nome_nasc = [('Zé', 2003), ('Maria', 1998), ('Alice', 2000)]\n",
        "sorted(nome_nasc, key = lambda x : x[1])"
      ],
      "metadata": {
        "colab": {
          "base_uri": "https://localhost:8080/"
        },
        "id": "3BGpbQICeqHW",
        "outputId": "eb16e4bc-715e-4c6f-a2cf-d1694f54eee6"
      },
      "execution_count": null,
      "outputs": [
        {
          "output_type": "execute_result",
          "data": {
            "text/plain": [
              "[('Maria', 1998), ('Alice', 2000), ('Zé', 2003)]"
            ]
          },
          "metadata": {},
          "execution_count": 21
        }
      ]
    },
    {
      "cell_type": "code",
      "source": [
        "#Desemacotameto de valores\n",
        "def nome_idade_uf():\n",
        "  nome = \"Epamiodas\"\n",
        "  idade = 18\n",
        "  uf = 'RN'\n",
        "  return nome, idade, uf\n",
        "\n",
        "name, age, uf = nome_idade_uf()\n",
        "\n",
        "print(name, age, uf)\n"
      ],
      "metadata": {
        "colab": {
          "base_uri": "https://localhost:8080/"
        },
        "id": "E0z0YJ2OlTFz",
        "outputId": "008e4547-e4c3-4a08-cee3-af2b5d9b237f"
      },
      "execution_count": null,
      "outputs": [
        {
          "output_type": "stream",
          "name": "stdout",
          "text": [
            "Epamiodas 18 RN\n"
          ]
        }
      ]
    },
    {
      "cell_type": "code",
      "source": [
        "alunos = ('Kelly', 'Adauto', 'Marcelie', 'Luaa', 'Herique')\n",
        "notas = (5.5, 8, 9, 7.5, 6.5)\n",
        "\n",
        "Av1 = tuple(zip(alunos, notas))\n",
        "\n",
        "Av1"
      ],
      "metadata": {
        "colab": {
          "base_uri": "https://localhost:8080/"
        },
        "id": "iVUEGjbUnVn7",
        "outputId": "e987c862-3ed6-4db7-8a8d-0013511f4285"
      },
      "execution_count": null,
      "outputs": [
        {
          "output_type": "execute_result",
          "data": {
            "text/plain": [
              "(('Kelly', 5.5),\n",
              " ('Adauto', 8),\n",
              " ('Marcelie', 9),\n",
              " ('Luaa', 7.5),\n",
              " ('Herique', 6.5))"
            ]
          },
          "metadata": {},
          "execution_count": 28
        }
      ]
    },
    {
      "cell_type": "code",
      "source": [
        "\n",
        "def cocateaTula(tp1, tp2):\n",
        "  return tp1 + tp2\n",
        "\n",
        "a = (1, 5, 6)\n",
        "b = (2, 6, 9)\n",
        "cocateaTula(a, b)\n"
      ],
      "metadata": {
        "colab": {
          "base_uri": "https://localhost:8080/"
        },
        "id": "bKeLum13pvfJ",
        "outputId": "828ca28b-2716-422a-f26c-fcc1be357916"
      },
      "execution_count": null,
      "outputs": [
        {
          "output_type": "execute_result",
          "data": {
            "text/plain": [
              "(1, 5, 6, 2, 6, 9)"
            ]
          },
          "metadata": {},
          "execution_count": 38
        }
      ]
    },
    {
      "cell_type": "code",
      "source": [
        "nome = ('Gabriel', 'Hellen', 'Genival', 'Firmino', 'Mercedes')\n",
        "idade = (23, 19, 28, 42, 58)\n"
      ],
      "metadata": {
        "colab": {
          "base_uri": "https://localhost:8080/"
        },
        "id": "lUAK_rCCszX_",
        "outputId": "604046fb-deef-43a2-c84d-a6ca39098366"
      },
      "execution_count": null,
      "outputs": [
        {
          "output_type": "stream",
          "name": "stdout",
          "text": [
            "<function nome_idade at 0x7f9c78003be0>\n"
          ]
        }
      ]
    },
    {
      "cell_type": "code",
      "source": [
        "def endereco(tupla):\n",
        "  nome, logradouro, numero, bairro = tupla\n",
        "  return f'Nome:{nome}, residente a {logradouro}, {numero}, {bairro}.'\n",
        "\n",
        "dadosCliente = (' Gardeina', \"Rua das Flores\", '42', 'Torre')\n",
        "\n",
        "print (endereco(dadosCliente))"
      ],
      "metadata": {
        "colab": {
          "base_uri": "https://localhost:8080/"
        },
        "id": "Ulwu5sYzukO_",
        "outputId": "cf506b56-4b24-4138-f7f7-b09c5b325f2c"
      },
      "execution_count": null,
      "outputs": [
        {
          "output_type": "stream",
          "name": "stdout",
          "text": [
            "Nome: Gardeina, residente a Rua das Flores, 42, Torre.\n"
          ]
        }
      ]
    },
    {
      "cell_type": "code",
      "source": [],
      "metadata": {
        "id": "DaBwgMo-ukF1"
      },
      "execution_count": null,
      "outputs": []
    }
  ]
}