{
  "nbformat": 4,
  "nbformat_minor": 0,
  "metadata": {
    "colab": {
      "provenance": [],
      "authorship_tag": "ABX9TyNaYSKSkHItI33BwuwP7aDk",
      "include_colab_link": true
    },
    "kernelspec": {
      "name": "python3",
      "display_name": "Python 3"
    },
    "language_info": {
      "name": "python"
    }
  },
  "cells": [
    {
      "cell_type": "markdown",
      "metadata": {
        "id": "view-in-github",
        "colab_type": "text"
      },
      "source": [
        "<a href=\"https://colab.research.google.com/github/gabriel-jonathas/Estudos-Progamacao/blob/main/Aula_27_03_2023.ipynb\" target=\"_parent\"><img src=\"https://colab.research.google.com/assets/colab-badge.svg\" alt=\"Open In Colab\"/></a>"
      ]
    },
    {
      "cell_type": "markdown",
      "source": [
        "#Laços: For e While\n"
      ],
      "metadata": {
        "id": "6WNolrVgEO5T"
      }
    },
    {
      "cell_type": "code",
      "source": [
        "#Criando uma lista\n",
        "frutas = ['banana', 'goiaba', 'pera', 'morango']\n"
      ],
      "metadata": {
        "id": "5TNLqMgaESt5"
      },
      "execution_count": null,
      "outputs": []
    },
    {
      "cell_type": "code",
      "source": [
        "frutas"
      ],
      "metadata": {
        "colab": {
          "base_uri": "https://localhost:8080/"
        },
        "id": "i75Vxo07EsCG",
        "outputId": "2fb70963-3b74-4f50-bfe9-96c4b6af8570"
      },
      "execution_count": null,
      "outputs": [
        {
          "output_type": "execute_result",
          "data": {
            "text/plain": [
              "['banana', 'goiaba', 'pera', 'morango']"
            ]
          },
          "metadata": {},
          "execution_count": 4
        }
      ]
    },
    {
      "cell_type": "code",
      "source": [
        "for x in frutas:\n",
        "  print(x)"
      ],
      "metadata": {
        "colab": {
          "base_uri": "https://localhost:8080/"
        },
        "id": "dUxfEmbTFA0o",
        "outputId": "905427cc-9d02-45ac-9756-84635820f966"
      },
      "execution_count": null,
      "outputs": [
        {
          "output_type": "stream",
          "name": "stdout",
          "text": [
            "banana\n",
            "goiaba\n",
            "pera\n",
            "morango\n"
          ]
        }
      ]
    },
    {
      "cell_type": "code",
      "source": [
        "for x in frutas:\n",
        "  if(x == 'morango'):\n",
        "    print(x)"
      ],
      "metadata": {
        "colab": {
          "base_uri": "https://localhost:8080/"
        },
        "id": "it_JE8LfF7BT",
        "outputId": "45939848-19ed-48db-f44a-527271e8470f"
      },
      "execution_count": null,
      "outputs": [
        {
          "output_type": "stream",
          "name": "stdout",
          "text": [
            "morango\n"
          ]
        }
      ]
    },
    {
      "cell_type": "code",
      "source": [
        "fruta = input('Insira una fruta: ')\n",
        "#Inserção de valors em listas\n",
        "frutas.append(fruta)\n",
        "frutas"
      ],
      "metadata": {
        "colab": {
          "base_uri": "https://localhost:8080/"
        },
        "id": "DsmyhqQKHXdV",
        "outputId": "2fc743c1-828c-4e8f-b62a-39e447863acb"
      },
      "execution_count": null,
      "outputs": [
        {
          "name": "stdout",
          "output_type": "stream",
          "text": [
            "Insira una fruta :melão\n"
          ]
        },
        {
          "output_type": "execute_result",
          "data": {
            "text/plain": [
              "['banana', 'goiaba', 'pera', 'morango', 'maçã', 'uva', 'melão']"
            ]
          },
          "metadata": {},
          "execution_count": 9
        }
      ]
    },
    {
      "cell_type": "code",
      "source": [
        "notas = [8, 9, 3, 4, 7, 10, 3, 6, 7]"
      ],
      "metadata": {
        "id": "S3Z6EXVWIShh"
      },
      "execution_count": null,
      "outputs": []
    },
    {
      "cell_type": "code",
      "source": [
        "for n in notas:\n",
        "  if(n >= 7):\n",
        "    print(n)"
      ],
      "metadata": {
        "colab": {
          "base_uri": "https://localhost:8080/"
        },
        "id": "tV4NbhO4I2PC",
        "outputId": "978549fa-8b27-4a7b-a1dc-7ebcc8590cc5"
      },
      "execution_count": null,
      "outputs": [
        {
          "output_type": "stream",
          "name": "stdout",
          "text": [
            "8\n",
            "9\n",
            "7\n",
            "10\n",
            "7\n"
          ]
        }
      ]
    },
    {
      "cell_type": "code",
      "source": [
        "#Exiba a quantidade de aprovados e de reprovados\n",
        "apro = 0\n",
        "repro = 0\n",
        "for n in notas:\n",
        "  if(n>=7):\n",
        "    apro +=1\n",
        "  else:\n",
        "    repro +=1\n",
        "\n",
        "print(apro,' aprovados')\n",
        "print(repro,' reprofados')\n"
      ],
      "metadata": {
        "colab": {
          "base_uri": "https://localhost:8080/"
        },
        "id": "699GTbYIJLzj",
        "outputId": "6346d653-0583-47a5-bb1d-677e985ca546"
      },
      "execution_count": null,
      "outputs": [
        {
          "output_type": "stream",
          "name": "stdout",
          "text": [
            "5  aprovados\n",
            "4  reprofados\n"
          ]
        }
      ]
    },
    {
      "cell_type": "code",
      "source": [
        "#1°Escrever um algoritmo que lista todos os números ímpares que são múltiplos de três e que se encontram no conjunto dos números de 1 até 100.\n",
        "numeros = []\n",
        "for num in range(101):\n",
        "  numeros.append(num)\n",
        "numeros\n",
        "for num in numeros:\n",
        "  if numeros[num]%3 == 0:\n",
        "    print(numeros[num])"
      ],
      "metadata": {
        "colab": {
          "base_uri": "https://localhost:8080/"
        },
        "id": "LE6K-o7QQQtK",
        "outputId": "5cb20ad7-2950-4b6a-c3cb-d95c0352954c"
      },
      "execution_count": null,
      "outputs": [
        {
          "output_type": "stream",
          "name": "stdout",
          "text": [
            "0\n",
            "3\n",
            "6\n",
            "9\n",
            "12\n",
            "15\n",
            "18\n",
            "21\n",
            "24\n",
            "27\n",
            "30\n",
            "33\n",
            "36\n",
            "39\n",
            "42\n",
            "45\n",
            "48\n",
            "51\n",
            "54\n",
            "57\n",
            "60\n",
            "63\n",
            "66\n",
            "69\n",
            "72\n",
            "75\n",
            "78\n",
            "81\n",
            "84\n",
            "87\n",
            "90\n",
            "93\n",
            "96\n",
            "99\n"
          ]
        }
      ]
    },
    {
      "cell_type": "code",
      "source": [
        "cont = 1\n",
        "numeros = []\n",
        "\n",
        "while (cont <= 10):\n",
        "  numeros.append(cont)\n",
        "  cont += 1\n",
        "\n",
        "numeros"
      ],
      "metadata": {
        "colab": {
          "base_uri": "https://localhost:8080/"
        },
        "id": "HFx7882BRupe",
        "outputId": "d23bcf02-3b40-4652-90f3-30a28cfd1020"
      },
      "execution_count": null,
      "outputs": [
        {
          "output_type": "execute_result",
          "data": {
            "text/plain": [
              "[1, 2, 3, 4, 5, 6, 7, 8, 9, 10]"
            ]
          },
          "metadata": {},
          "execution_count": 36
        }
      ]
    },
    {
      "cell_type": "code",
      "source": [
        "#Modifique o código anterior, para solicitar um tamanho de lista X e, com o laço while, crie a nova lista, do tamanho desejado\n",
        "\n",
        "tam = int(input('Qual o tamanho da sua lista: '))\n",
        "cont = 1\n",
        "numeros = []\n",
        "\n",
        "while (cont <= tam):\n",
        "  numeros.append(cont)\n",
        "  cont += 1\n",
        "\n",
        "numeros\n"
      ],
      "metadata": {
        "colab": {
          "base_uri": "https://localhost:8080/"
        },
        "id": "8KxkoypUSRRW",
        "outputId": "db26a425-8ece-4543-acf6-9179dd367cca"
      },
      "execution_count": null,
      "outputs": [
        {
          "name": "stdout",
          "output_type": "stream",
          "text": [
            "Qual o tamanho da sua lista: 20\n"
          ]
        },
        {
          "output_type": "execute_result",
          "data": {
            "text/plain": [
              "[1, 2, 3, 4, 5, 6, 7, 8, 9, 10, 11, 12, 13, 14, 15, 16, 17, 18, 19, 20]"
            ]
          },
          "metadata": {},
          "execution_count": 45
        }
      ]
    },
    {
      "cell_type": "code",
      "source": [
        "# Inserir nomes de cidade.\n",
        "#O laço encerra, quando digitar 0.\n",
        "cidades = []\n",
        "cidade = input('Insira o nome de uma cidade: ')\n",
        "\n",
        "while(cidade != '0'):\n",
        " cidades.append(cidade)\n",
        " cidade = input('Insira o nome de uma cidade: ')\n",
        "\n",
        "cidades"
      ],
      "metadata": {
        "colab": {
          "base_uri": "https://localhost:8080/"
        },
        "id": "3aCEDIlvUoyh",
        "outputId": "79595fa4-c9d4-4a57-90d9-7b7d24880294"
      },
      "execution_count": null,
      "outputs": [
        {
          "name": "stdout",
          "output_type": "stream",
          "text": [
            "Insira o nome de uma cidade: João Pessoa\n",
            "Insira o nome de uma cidade: Fortaleza\n",
            "Insira o nome de uma cidade: Recife\n",
            "Insira o nome de uma cidade: 0\n"
          ]
        },
        {
          "output_type": "execute_result",
          "data": {
            "text/plain": [
              "['João Pessoa', 'Fortaleza', 'Recife']"
            ]
          },
          "metadata": {},
          "execution_count": 58
        }
      ]
    },
    {
      "cell_type": "code",
      "source": [
        "num = int(input('Digite um número: '))\n",
        "\n",
        "while(num >= 0):\n",
        "  if(num%2 == 0):\n",
        "    print(num,' é par')\n",
        "    num = int(input('Digite um número: '))\n",
        "  else:\n",
        "    print(num,' é impar')\n",
        "    num = int(input('Digite um número: '))\n",
        "\n",
        "print('Acabou a brincadeira!!')"
      ],
      "metadata": {
        "colab": {
          "base_uri": "https://localhost:8080/"
        },
        "id": "pQY6HemHX4Cg",
        "outputId": "32eac2bb-4e77-450b-9e00-63b90a2cdb83"
      },
      "execution_count": null,
      "outputs": [
        {
          "output_type": "stream",
          "name": "stdout",
          "text": [
            "Digite um número: 2\n",
            "2  é par\n",
            "Digite um número: 5\n",
            "5  é impar\n",
            "Digite um número: 10\n",
            "10  é par\n",
            "Digite um número: -1\n",
            "Acabou a brincadeira!!\n"
          ]
        }
      ]
    }
  ]
}